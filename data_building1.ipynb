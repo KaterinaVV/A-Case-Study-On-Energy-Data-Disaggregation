{
 "cells": [
  {
   "cell_type": "code",
   "execution_count": 1,
   "metadata": {},
   "outputs": [],
   "source": [
    "%matplotlib inline\n",
    "\n",
    "from __future__ import print_function\n",
    "import numpy as np\n",
    "import pandas as pd\n",
    "from pylab import rcParams\n",
    "import matplotlib.pyplot as plt\n",
    "\n",
    "rcParams['figure.figsize'] = (13, 6)\n",
    "\n",
    "import nilmtk\n",
    "from nilmtk import DataSet, TimeFrame, MeterGroup, HDFDataStore\n",
    "from nilmtk.legacy.disaggregate import CombinatorialOptimisation\n",
    "from nilmtk.utils import print_dict\n",
    "from nilmtk.metrics import f1_score\n",
    "\n",
    "import pandas as pd\n",
    "import numpy as np\n",
    "from nilmtk.measurement import measurement_columns, AC_TYPES\n",
    "\n",
    "import pytz\n"
   ]
  },
  {
   "cell_type": "markdown",
   "metadata": {},
   "source": [
    "# oth-regensburg-1"
   ]
  },
  {
   "cell_type": "code",
   "execution_count": 2,
   "metadata": {},
   "outputs": [
    {
     "name": "stdout",
     "output_type": "stream",
     "text": [
      "(1550472, 27)\n"
     ]
    },
    {
     "data": {
      "text/html": [
       "<div>\n",
       "<style scoped>\n",
       "    .dataframe tbody tr th:only-of-type {\n",
       "        vertical-align: middle;\n",
       "    }\n",
       "\n",
       "    .dataframe tbody tr th {\n",
       "        vertical-align: top;\n",
       "    }\n",
       "\n",
       "    .dataframe thead th {\n",
       "        text-align: right;\n",
       "    }\n",
       "</style>\n",
       "<table border=\"1\" class=\"dataframe\">\n",
       "  <thead>\n",
       "    <tr style=\"text-align: right;\">\n",
       "      <th></th>\n",
       "      <th>Id</th>\n",
       "      <th>Name</th>\n",
       "      <th>Serial</th>\n",
       "      <th>DeviceEnergyType</th>\n",
       "      <th>MeterSubType</th>\n",
       "      <th>ActivePower</th>\n",
       "      <th>CounterReading</th>\n",
       "      <th>CounterReadingT1</th>\n",
       "      <th>CounterReadingT2</th>\n",
       "      <th>CounterReadingExport</th>\n",
       "      <th>...</th>\n",
       "      <th>VoltageL3</th>\n",
       "      <th>Current</th>\n",
       "      <th>CurrentL1</th>\n",
       "      <th>CurrentL2</th>\n",
       "      <th>CurrentL3</th>\n",
       "      <th>PowerFactor</th>\n",
       "      <th>PowerFactorL1</th>\n",
       "      <th>PowerFactorL2</th>\n",
       "      <th>PowerFactorL3</th>\n",
       "      <th>DigitalInput1</th>\n",
       "    </tr>\n",
       "  </thead>\n",
       "  <tbody>\n",
       "    <tr>\n",
       "      <th>0</th>\n",
       "      <td>43043308-a366-4af4-881c-6bae4a0a0dc3</td>\n",
       "      <td>smart-me 6011785 - Allgemein</td>\n",
       "      <td>6011785</td>\n",
       "      <td>MeterTypeElectricity</td>\n",
       "      <td>NaN</td>\n",
       "      <td>0.133324</td>\n",
       "      <td>3016.232117</td>\n",
       "      <td>3016.232117</td>\n",
       "      <td>0.0</td>\n",
       "      <td>7.343095</td>\n",
       "      <td>...</td>\n",
       "      <td>234.6</td>\n",
       "      <td>NaN</td>\n",
       "      <td>0.361</td>\n",
       "      <td>0.614</td>\n",
       "      <td>0.172</td>\n",
       "      <td>0.333</td>\n",
       "      <td>0.333</td>\n",
       "      <td>0.690</td>\n",
       "      <td>0.152</td>\n",
       "      <td>NaN</td>\n",
       "    </tr>\n",
       "    <tr>\n",
       "      <th>1</th>\n",
       "      <td>aa680cb9-5092-4483-84fe-a5df826a55c4</td>\n",
       "      <td>smart-me 6011209 Batterie</td>\n",
       "      <td>6011209</td>\n",
       "      <td>MeterTypeElectricity</td>\n",
       "      <td>NaN</td>\n",
       "      <td>-0.008716</td>\n",
       "      <td>-1761.777895</td>\n",
       "      <td>-1761.777895</td>\n",
       "      <td>0.0</td>\n",
       "      <td>12496.138372</td>\n",
       "      <td>...</td>\n",
       "      <td>0.0</td>\n",
       "      <td>NaN</td>\n",
       "      <td>-0.057</td>\n",
       "      <td>0.000</td>\n",
       "      <td>0.000</td>\n",
       "      <td>0.650</td>\n",
       "      <td>0.650</td>\n",
       "      <td>0.000</td>\n",
       "      <td>0.000</td>\n",
       "      <td>NaN</td>\n",
       "    </tr>\n",
       "    <tr>\n",
       "      <th>2</th>\n",
       "      <td>2c6913bf-c807-4592-a148-a891b6174aae</td>\n",
       "      <td>Gesamtverbrauch</td>\n",
       "      <td>637686123692284276</td>\n",
       "      <td>13</td>\n",
       "      <td>MeterSubTypeElectricity</td>\n",
       "      <td>0.750239</td>\n",
       "      <td>75000.402125</td>\n",
       "      <td>75000.402125</td>\n",
       "      <td>0.0</td>\n",
       "      <td>7.343097</td>\n",
       "      <td>...</td>\n",
       "      <td>NaN</td>\n",
       "      <td>0.0</td>\n",
       "      <td>0.000</td>\n",
       "      <td>0.000</td>\n",
       "      <td>0.000</td>\n",
       "      <td>NaN</td>\n",
       "      <td>NaN</td>\n",
       "      <td>NaN</td>\n",
       "      <td>NaN</td>\n",
       "      <td>NaN</td>\n",
       "    </tr>\n",
       "    <tr>\n",
       "      <th>3</th>\n",
       "      <td>e8755559-b3da-4a71-baa6-109fd1304248</td>\n",
       "      <td>smart-me 6011227 - Heizung</td>\n",
       "      <td>6011227</td>\n",
       "      <td>MeterTypeElectricity</td>\n",
       "      <td>NaN</td>\n",
       "      <td>0.047855</td>\n",
       "      <td>36439.485954</td>\n",
       "      <td>36439.485954</td>\n",
       "      <td>0.0</td>\n",
       "      <td>0.000000</td>\n",
       "      <td>...</td>\n",
       "      <td>234.6</td>\n",
       "      <td>NaN</td>\n",
       "      <td>0.321</td>\n",
       "      <td>0.000</td>\n",
       "      <td>0.000</td>\n",
       "      <td>0.642</td>\n",
       "      <td>0.642</td>\n",
       "      <td>0.000</td>\n",
       "      <td>0.000</td>\n",
       "      <td>NaN</td>\n",
       "    </tr>\n",
       "    <tr>\n",
       "      <th>4</th>\n",
       "      <td>a9dad66e-8a0b-457f-8cd8-644aeddee557</td>\n",
       "      <td>smart-me 6011505 - Wohnung 1</td>\n",
       "      <td>6011505</td>\n",
       "      <td>MeterTypeElectricity</td>\n",
       "      <td>NaN</td>\n",
       "      <td>0.052729</td>\n",
       "      <td>4050.142234</td>\n",
       "      <td>4050.142234</td>\n",
       "      <td>0.0</td>\n",
       "      <td>0.000000</td>\n",
       "      <td>...</td>\n",
       "      <td>234.6</td>\n",
       "      <td>NaN</td>\n",
       "      <td>0.701</td>\n",
       "      <td>0.467</td>\n",
       "      <td>0.091</td>\n",
       "      <td>0.054</td>\n",
       "      <td>0.054</td>\n",
       "      <td>0.402</td>\n",
       "      <td>0.000</td>\n",
       "      <td>NaN</td>\n",
       "    </tr>\n",
       "  </tbody>\n",
       "</table>\n",
       "<p>5 rows × 27 columns</p>\n",
       "</div>"
      ],
      "text/plain": [
       "                                     Id                          Name  \\\n",
       "0  43043308-a366-4af4-881c-6bae4a0a0dc3  smart-me 6011785 - Allgemein   \n",
       "1  aa680cb9-5092-4483-84fe-a5df826a55c4     smart-me 6011209 Batterie   \n",
       "2  2c6913bf-c807-4592-a148-a891b6174aae               Gesamtverbrauch   \n",
       "3  e8755559-b3da-4a71-baa6-109fd1304248    smart-me 6011227 - Heizung   \n",
       "4  a9dad66e-8a0b-457f-8cd8-644aeddee557  smart-me 6011505 - Wohnung 1   \n",
       "\n",
       "               Serial      DeviceEnergyType             MeterSubType  \\\n",
       "0             6011785  MeterTypeElectricity                      NaN   \n",
       "1             6011209  MeterTypeElectricity                      NaN   \n",
       "2  637686123692284276                    13  MeterSubTypeElectricity   \n",
       "3             6011227  MeterTypeElectricity                      NaN   \n",
       "4             6011505  MeterTypeElectricity                      NaN   \n",
       "\n",
       "   ActivePower  CounterReading  CounterReadingT1  CounterReadingT2  \\\n",
       "0     0.133324     3016.232117       3016.232117               0.0   \n",
       "1    -0.008716    -1761.777895      -1761.777895               0.0   \n",
       "2     0.750239    75000.402125      75000.402125               0.0   \n",
       "3     0.047855    36439.485954      36439.485954               0.0   \n",
       "4     0.052729     4050.142234       4050.142234               0.0   \n",
       "\n",
       "   CounterReadingExport  ...  VoltageL3  Current  CurrentL1 CurrentL2  \\\n",
       "0              7.343095  ...      234.6      NaN      0.361     0.614   \n",
       "1          12496.138372  ...        0.0      NaN     -0.057     0.000   \n",
       "2              7.343097  ...        NaN      0.0      0.000     0.000   \n",
       "3              0.000000  ...      234.6      NaN      0.321     0.000   \n",
       "4              0.000000  ...      234.6      NaN      0.701     0.467   \n",
       "\n",
       "   CurrentL3  PowerFactor  PowerFactorL1  PowerFactorL2  PowerFactorL3  \\\n",
       "0      0.172        0.333          0.333          0.690          0.152   \n",
       "1      0.000        0.650          0.650          0.000          0.000   \n",
       "2      0.000          NaN            NaN            NaN            NaN   \n",
       "3      0.000        0.642          0.642          0.000          0.000   \n",
       "4      0.091        0.054          0.054          0.402          0.000   \n",
       "\n",
       "   DigitalInput1  \n",
       "0            NaN  \n",
       "1            NaN  \n",
       "2            NaN  \n",
       "3            NaN  \n",
       "4            NaN  \n",
       "\n",
       "[5 rows x 27 columns]"
      ]
     },
     "execution_count": 2,
     "metadata": {},
     "output_type": "execute_result"
    }
   ],
   "source": [
    "df = pd.read_csv(\"oth-regensburg-1/oth-regensburg-1.csv\")\n",
    "print(df.shape)\n",
    "df.head()"
   ]
  },
  {
   "cell_type": "code",
   "execution_count": 3,
   "metadata": {},
   "outputs": [],
   "source": [
    "Wohnung1 = df[df.Name.str.contains(\"Wohnung 1\")][['ActivePower','ValueDate']]"
   ]
  },
  {
   "cell_type": "code",
   "execution_count": 4,
   "metadata": {},
   "outputs": [
    {
     "data": {
      "text/html": [
       "<div>\n",
       "<style scoped>\n",
       "    .dataframe tbody tr th:only-of-type {\n",
       "        vertical-align: middle;\n",
       "    }\n",
       "\n",
       "    .dataframe tbody tr th {\n",
       "        vertical-align: top;\n",
       "    }\n",
       "\n",
       "    .dataframe thead th {\n",
       "        text-align: right;\n",
       "    }\n",
       "</style>\n",
       "<table border=\"1\" class=\"dataframe\">\n",
       "  <thead>\n",
       "    <tr style=\"text-align: right;\">\n",
       "      <th></th>\n",
       "      <th>ActivePower</th>\n",
       "      <th>ValueDate</th>\n",
       "    </tr>\n",
       "  </thead>\n",
       "  <tbody>\n",
       "    <tr>\n",
       "      <th>4</th>\n",
       "      <td>0.052729</td>\n",
       "      <td>08/01/2023 00:00:03</td>\n",
       "    </tr>\n",
       "    <tr>\n",
       "      <th>16</th>\n",
       "      <td>0.053102</td>\n",
       "      <td>08/01/2023 00:00:05</td>\n",
       "    </tr>\n",
       "    <tr>\n",
       "      <th>28</th>\n",
       "      <td>0.052937</td>\n",
       "      <td>08/01/2023 00:00:07</td>\n",
       "    </tr>\n",
       "    <tr>\n",
       "      <th>40</th>\n",
       "      <td>0.052926</td>\n",
       "      <td>08/01/2023 00:00:09</td>\n",
       "    </tr>\n",
       "    <tr>\n",
       "      <th>52</th>\n",
       "      <td>0.053356</td>\n",
       "      <td>08/01/2023 00:00:10</td>\n",
       "    </tr>\n",
       "  </tbody>\n",
       "</table>\n",
       "</div>"
      ],
      "text/plain": [
       "    ActivePower            ValueDate\n",
       "4      0.052729  08/01/2023 00:00:03\n",
       "16     0.053102  08/01/2023 00:00:05\n",
       "28     0.052937  08/01/2023 00:00:07\n",
       "40     0.052926  08/01/2023 00:00:09\n",
       "52     0.053356  08/01/2023 00:00:10"
      ]
     },
     "execution_count": 4,
     "metadata": {},
     "output_type": "execute_result"
    }
   ],
   "source": [
    "Wohnung1.head()"
   ]
  },
  {
   "cell_type": "code",
   "execution_count": 5,
   "metadata": {},
   "outputs": [
    {
     "data": {
      "text/html": [
       "<div>\n",
       "<style scoped>\n",
       "    .dataframe tbody tr th:only-of-type {\n",
       "        vertical-align: middle;\n",
       "    }\n",
       "\n",
       "    .dataframe tbody tr th {\n",
       "        vertical-align: top;\n",
       "    }\n",
       "\n",
       "    .dataframe thead th {\n",
       "        text-align: right;\n",
       "    }\n",
       "</style>\n",
       "<table border=\"1\" class=\"dataframe\">\n",
       "  <thead>\n",
       "    <tr style=\"text-align: right;\">\n",
       "      <th></th>\n",
       "      <th>ActivePower</th>\n",
       "      <th>ValueDate</th>\n",
       "    </tr>\n",
       "  </thead>\n",
       "  <tbody>\n",
       "    <tr>\n",
       "      <th>4</th>\n",
       "      <td>0.052729</td>\n",
       "      <td>2023-08-01 00:00:03+02:00</td>\n",
       "    </tr>\n",
       "    <tr>\n",
       "      <th>16</th>\n",
       "      <td>0.053102</td>\n",
       "      <td>2023-08-01 00:00:05+02:00</td>\n",
       "    </tr>\n",
       "    <tr>\n",
       "      <th>28</th>\n",
       "      <td>0.052937</td>\n",
       "      <td>2023-08-01 00:00:07+02:00</td>\n",
       "    </tr>\n",
       "    <tr>\n",
       "      <th>40</th>\n",
       "      <td>0.052926</td>\n",
       "      <td>2023-08-01 00:00:09+02:00</td>\n",
       "    </tr>\n",
       "    <tr>\n",
       "      <th>52</th>\n",
       "      <td>0.053356</td>\n",
       "      <td>2023-08-01 00:00:10+02:00</td>\n",
       "    </tr>\n",
       "  </tbody>\n",
       "</table>\n",
       "</div>"
      ],
      "text/plain": [
       "    ActivePower                 ValueDate\n",
       "4      0.052729 2023-08-01 00:00:03+02:00\n",
       "16     0.053102 2023-08-01 00:00:05+02:00\n",
       "28     0.052937 2023-08-01 00:00:07+02:00\n",
       "40     0.052926 2023-08-01 00:00:09+02:00\n",
       "52     0.053356 2023-08-01 00:00:10+02:00"
      ]
     },
     "execution_count": 5,
     "metadata": {},
     "output_type": "execute_result"
    }
   ],
   "source": [
    "Wohnung1['ValueDate'] = pd.to_datetime(Wohnung1['ValueDate'], format='%m/%d/%Y %H:%M:%S')\n",
    "Wohnung1['ValueDate'].dt.strftime('%Y-%m-%d %H:%M:%S')\n",
    "tz = pytz.timezone('Europe/Berlin')\n",
    "Wohnung1['ValueDate'] = Wohnung1['ValueDate'].dt.tz_localize(tz)\n",
    "Wohnung1.head()"
   ]
  },
  {
   "cell_type": "code",
   "execution_count": 6,
   "metadata": {},
   "outputs": [],
   "source": [
    "Wohnung1.ActivePower = Wohnung1.ActivePower * 1000"
   ]
  },
  {
   "cell_type": "code",
   "execution_count": 7,
   "metadata": {},
   "outputs": [
    {
     "data": {
      "text/html": [
       "<div>\n",
       "<style scoped>\n",
       "    .dataframe tbody tr th:only-of-type {\n",
       "        vertical-align: middle;\n",
       "    }\n",
       "\n",
       "    .dataframe tbody tr th {\n",
       "        vertical-align: top;\n",
       "    }\n",
       "\n",
       "    .dataframe thead th {\n",
       "        text-align: right;\n",
       "    }\n",
       "</style>\n",
       "<table border=\"1\" class=\"dataframe\">\n",
       "  <thead>\n",
       "    <tr style=\"text-align: right;\">\n",
       "      <th></th>\n",
       "      <th>ActivePower</th>\n",
       "    </tr>\n",
       "  </thead>\n",
       "  <tbody>\n",
       "    <tr>\n",
       "      <th>2023-08-01 00:00:03+02:00</th>\n",
       "      <td>52.729</td>\n",
       "    </tr>\n",
       "    <tr>\n",
       "      <th>2023-08-01 00:00:05+02:00</th>\n",
       "      <td>53.102</td>\n",
       "    </tr>\n",
       "    <tr>\n",
       "      <th>2023-08-01 00:00:07+02:00</th>\n",
       "      <td>52.937</td>\n",
       "    </tr>\n",
       "    <tr>\n",
       "      <th>2023-08-01 00:00:09+02:00</th>\n",
       "      <td>52.926</td>\n",
       "    </tr>\n",
       "    <tr>\n",
       "      <th>2023-08-01 00:00:10+02:00</th>\n",
       "      <td>53.356</td>\n",
       "    </tr>\n",
       "  </tbody>\n",
       "</table>\n",
       "</div>"
      ],
      "text/plain": [
       "                           ActivePower\n",
       "2023-08-01 00:00:03+02:00       52.729\n",
       "2023-08-01 00:00:05+02:00       53.102\n",
       "2023-08-01 00:00:07+02:00       52.937\n",
       "2023-08-01 00:00:09+02:00       52.926\n",
       "2023-08-01 00:00:10+02:00       53.356"
      ]
     },
     "execution_count": 7,
     "metadata": {},
     "output_type": "execute_result"
    }
   ],
   "source": [
    "Wohnung1.set_index('ValueDate', inplace=True)\n",
    "Wohnung1.index.name = None\n",
    "# Wohnung1.reset_index(inplace=True)\n",
    "Wohnung1.head()"
   ]
  },
  {
   "cell_type": "code",
   "execution_count": 8,
   "metadata": {},
   "outputs": [
    {
     "data": {
      "text/plain": [
       "array([[52.729],\n",
       "       [53.102],\n",
       "       [52.937],\n",
       "       ...,\n",
       "       [95.077],\n",
       "       [95.45 ],\n",
       "       [95.6  ]])"
      ]
     },
     "execution_count": 8,
     "metadata": {},
     "output_type": "execute_result"
    }
   ],
   "source": [
    "Wohnung1.values"
   ]
  },
  {
   "cell_type": "code",
   "execution_count": 9,
   "metadata": {},
   "outputs": [
    {
     "data": {
      "text/plain": [
       "DatetimeIndex(['2023-08-01 00:00:03+02:00', '2023-08-01 00:00:05+02:00',\n",
       "               '2023-08-01 00:00:07+02:00', '2023-08-01 00:00:09+02:00',\n",
       "               '2023-08-01 00:00:10+02:00', '2023-08-01 00:00:13+02:00',\n",
       "               '2023-08-01 00:00:14+02:00', '2023-08-01 00:00:16+02:00',\n",
       "               '2023-08-01 00:00:18+02:00', '2023-08-01 00:00:20+02:00',\n",
       "               ...\n",
       "               '2023-08-31 10:17:28+02:00', '2023-08-31 10:18:06+02:00',\n",
       "               '2023-08-31 10:18:44+02:00', '2023-08-31 10:19:23+02:00',\n",
       "               '2023-08-31 10:20:01+02:00', '2023-08-31 10:20:39+02:00',\n",
       "               '2023-08-31 10:21:18+02:00', '2023-08-31 10:21:56+02:00',\n",
       "               '2023-08-31 10:22:35+02:00', '2023-08-31 10:23:13+02:00'],\n",
       "              dtype='datetime64[ns, Europe/Berlin]', length=129206, freq=None)"
      ]
     },
     "execution_count": 9,
     "metadata": {},
     "output_type": "execute_result"
    }
   ],
   "source": [
    "Wohnung1.index"
   ]
  },
  {
   "cell_type": "code",
   "execution_count": 10,
   "metadata": {},
   "outputs": [],
   "source": [
    "smartme_df = pd.DataFrame(data=Wohnung1.values, index=Wohnung1.index, dtype=np.float32,\n",
    "                       columns=measurement_columns([('power', 'active')]))"
   ]
  },
  {
   "cell_type": "code",
   "execution_count": 11,
   "metadata": {},
   "outputs": [
    {
     "data": {
      "text/html": [
       "<div>\n",
       "<style scoped>\n",
       "    .dataframe tbody tr th:only-of-type {\n",
       "        vertical-align: middle;\n",
       "    }\n",
       "\n",
       "    .dataframe tbody tr th {\n",
       "        vertical-align: top;\n",
       "    }\n",
       "\n",
       "    .dataframe thead tr th {\n",
       "        text-align: left;\n",
       "    }\n",
       "</style>\n",
       "<table border=\"1\" class=\"dataframe\">\n",
       "  <thead>\n",
       "    <tr>\n",
       "      <th>physical_quantity</th>\n",
       "      <th>power</th>\n",
       "    </tr>\n",
       "    <tr>\n",
       "      <th>type</th>\n",
       "      <th>active</th>\n",
       "    </tr>\n",
       "  </thead>\n",
       "  <tbody>\n",
       "    <tr>\n",
       "      <th>2023-08-01 00:00:03+02:00</th>\n",
       "      <td>52.729000</td>\n",
       "    </tr>\n",
       "    <tr>\n",
       "      <th>2023-08-01 00:00:05+02:00</th>\n",
       "      <td>53.102001</td>\n",
       "    </tr>\n",
       "    <tr>\n",
       "      <th>2023-08-01 00:00:07+02:00</th>\n",
       "      <td>52.937000</td>\n",
       "    </tr>\n",
       "    <tr>\n",
       "      <th>2023-08-01 00:00:09+02:00</th>\n",
       "      <td>52.925999</td>\n",
       "    </tr>\n",
       "    <tr>\n",
       "      <th>2023-08-01 00:00:10+02:00</th>\n",
       "      <td>53.355999</td>\n",
       "    </tr>\n",
       "  </tbody>\n",
       "</table>\n",
       "</div>"
      ],
      "text/plain": [
       "physical_quantity              power\n",
       "type                          active\n",
       "2023-08-01 00:00:03+02:00  52.729000\n",
       "2023-08-01 00:00:05+02:00  53.102001\n",
       "2023-08-01 00:00:07+02:00  52.937000\n",
       "2023-08-01 00:00:09+02:00  52.925999\n",
       "2023-08-01 00:00:10+02:00  53.355999"
      ]
     },
     "execution_count": 11,
     "metadata": {},
     "output_type": "execute_result"
    }
   ],
   "source": [
    "smartme_df.head()"
   ]
  },
  {
   "cell_type": "code",
   "execution_count": 13,
   "metadata": {},
   "outputs": [],
   "source": [
    "smartme_df.index.name"
   ]
  },
  {
   "cell_type": "markdown",
   "metadata": {},
   "source": [
    "# create smartme.h5"
   ]
  },
  {
   "cell_type": "code",
   "execution_count": 12,
   "metadata": {},
   "outputs": [],
   "source": [
    "from generate_smartme import create_smartme_hdf5"
   ]
  },
  {
   "cell_type": "code",
   "execution_count": 13,
   "metadata": {},
   "outputs": [
    {
     "name": "stdout",
     "output_type": "stream",
     "text": [
      "Saving building1/elec/meter1\n",
      "Done converting YAML metadata to HDF5!\n"
     ]
    }
   ],
   "source": [
    "create_smartme_hdf5(smartme_df, 'smartme.h5')"
   ]
  },
  {
   "cell_type": "code",
   "execution_count": null,
   "metadata": {},
   "outputs": [],
   "source": []
  }
 ],
 "metadata": {
  "kernelspec": {
   "display_name": "nilmtk-env",
   "language": "python",
   "name": "python3"
  },
  "language_info": {
   "codemirror_mode": {
    "name": "ipython",
    "version": 3
   },
   "file_extension": ".py",
   "mimetype": "text/x-python",
   "name": "python",
   "nbconvert_exporter": "python",
   "pygments_lexer": "ipython3",
   "version": "3.8.16"
  },
  "orig_nbformat": 4
 },
 "nbformat": 4,
 "nbformat_minor": 2
}
