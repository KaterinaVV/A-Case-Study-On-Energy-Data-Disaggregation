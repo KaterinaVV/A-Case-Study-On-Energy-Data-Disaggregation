{
 "cells": [
  {
   "cell_type": "code",
   "execution_count": 1,
   "metadata": {},
   "outputs": [],
   "source": [
    "from generate_smartme import convert_smartme"
   ]
  },
  {
   "cell_type": "code",
   "execution_count": 2,
   "metadata": {},
   "outputs": [],
   "source": [
    "smartme_path = '/Users/ken/Desktop/oth-regensburg-v1/Wohnung'\n",
    "output_filename = '/Users/ken/Desktop/oth-regensburg-v1/SmartMe.h5'"
   ]
  },
  {
   "cell_type": "code",
   "execution_count": 3,
   "metadata": {},
   "outputs": [
    {
     "name": "stdout",
     "output_type": "stream",
     "text": [
      "b_cnt 0\n",
      "Loading Home: 1... 1 \n",
      "b_cnt 1\n",
      "Loading Home: 2... 1 \n",
      "b_cnt 2\n",
      "Loading Home: 3... 1 \n",
      "b_cnt 3\n",
      "Loading Home: 4... 1 \n",
      "b_cnt 4\n",
      "Loading Home: 5... 1 \n",
      "b_cnt 5\n",
      "Loading Home: 6... 1 \n",
      "b_cnt 6\n",
      "Loading Home: 7... 1 \n",
      "Loaded metadata\n",
      "Done converting YAML metadata to HDF5!\n",
      "Done converting SMART to HDF5!\n"
     ]
    }
   ],
   "source": [
    "convert_smartme(smartme_path, output_filename)"
   ]
  }
 ],
 "metadata": {
  "kernelspec": {
   "display_name": "nilmtk-env",
   "language": "python",
   "name": "python3"
  },
  "language_info": {
   "codemirror_mode": {
    "name": "ipython",
    "version": 3
   },
   "file_extension": ".py",
   "mimetype": "text/x-python",
   "name": "python",
   "nbconvert_exporter": "python",
   "pygments_lexer": "ipython3",
   "version": "3.8.16"
  },
  "orig_nbformat": 4
 },
 "nbformat": 4,
 "nbformat_minor": 2
}
