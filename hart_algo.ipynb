{
 "cells": [
  {
   "cell_type": "code",
   "execution_count": 1,
   "metadata": {},
   "outputs": [],
   "source": [
    "import nilmtk\n",
    "from nilmtk import DataSet, TimeFrame, MeterGroup, HDFDataStore\n",
    "from nilmtk.legacy.disaggregate import CombinatorialOptimisation\n",
    "from nilmtk.utils import print_dict\n",
    "from nilmtk.metrics import f1_score"
   ]
  },
  {
   "cell_type": "code",
   "execution_count": 2,
   "metadata": {},
   "outputs": [
    {
     "name": "stderr",
     "output_type": "stream",
     "text": [
      "/Users/ken/opt/anaconda3/envs/nilmtk-env/lib/python3.8/site-packages/nilmtk/metergroup.py:85: RuntimeWarning: Building 1 has an empty 'appliances' list.\n",
      "  warnings.warn(\"Building {} has an empty 'appliances' list.\"\n",
      "/Users/ken/opt/anaconda3/envs/nilmtk-env/lib/python3.8/site-packages/nilmtk/metergroup.py:85: RuntimeWarning: Building 2 has an empty 'appliances' list.\n",
      "  warnings.warn(\"Building {} has an empty 'appliances' list.\"\n",
      "/Users/ken/opt/anaconda3/envs/nilmtk-env/lib/python3.8/site-packages/nilmtk/metergroup.py:85: RuntimeWarning: Building 3 has an empty 'appliances' list.\n",
      "  warnings.warn(\"Building {} has an empty 'appliances' list.\"\n",
      "/Users/ken/opt/anaconda3/envs/nilmtk-env/lib/python3.8/site-packages/nilmtk/metergroup.py:85: RuntimeWarning: Building 4 has an empty 'appliances' list.\n",
      "  warnings.warn(\"Building {} has an empty 'appliances' list.\"\n",
      "/Users/ken/opt/anaconda3/envs/nilmtk-env/lib/python3.8/site-packages/nilmtk/metergroup.py:85: RuntimeWarning: Building 5 has an empty 'appliances' list.\n",
      "  warnings.warn(\"Building {} has an empty 'appliances' list.\"\n",
      "/Users/ken/opt/anaconda3/envs/nilmtk-env/lib/python3.8/site-packages/nilmtk/metergroup.py:85: RuntimeWarning: Building 6 has an empty 'appliances' list.\n",
      "  warnings.warn(\"Building {} has an empty 'appliances' list.\"\n",
      "/Users/ken/opt/anaconda3/envs/nilmtk-env/lib/python3.8/site-packages/nilmtk/metergroup.py:85: RuntimeWarning: Building 7 has an empty 'appliances' list.\n",
      "  warnings.warn(\"Building {} has an empty 'appliances' list.\"\n"
     ]
    }
   ],
   "source": [
    "data = DataSet('SmartMe.h5')"
   ]
  },
  {
   "cell_type": "markdown",
   "metadata": {},
   "source": [
    "# Basic Stats"
   ]
  },
  {
   "cell_type": "code",
   "execution_count": 3,
   "metadata": {},
   "outputs": [
    {
     "data": {
      "text/html": [
       "<ul><li><strong>contact</strong>: wenfei.huang@st.oth-regensburg.de</li><li><strong>creators</strong>: Wenfei, Huang</li><li><strong>description</strong>: A month of power data for 3 home.</li><li><strong>institution</strong>: Ostbayerische Technische Hochschule Regensburg</li><li><strong>long_name</strong>: Smart Meter Data Set</li><li><strong>name</strong>: SmartMe</li><li><strong>number_of_buildings</strong>: 7</li><li><strong>publication_date</strong>: 2023</li><li><strong>schema</strong>: <a href=\"https://github.com/nilmtk/nilm_metadata/tree/v0.2\">https://github.com/nilmtk/nilm_metadata/tree/v0.2</a></li><li><strong>subject</strong>: Disaggregated power demand from domestic buildings.</li><li><strong>timezone</strong>: Europe/Berlin</li><li><strong>meter_devices</strong>: <ul><li><strong>Smart Meter</strong>: <ul><li><strong>manufacturer</strong>: Test Manufacturer</li><li><strong>max_sample_period</strong>: 30</li><li><strong>measurements</strong>: <ul><li>{'lower_limit': 0, 'physical_quantity': 'power', 'type': 'active', 'upper_limit': 50000}</li></ul></li><li><strong>model</strong>: Smart Meter</li><li><strong>sample_period</strong>: 1</li></ul></li></ul></li></ul>"
      ],
      "text/plain": [
       "<IPython.core.display.HTML object>"
      ]
     },
     "metadata": {},
     "output_type": "display_data"
    }
   ],
   "source": [
    "print_dict(data.metadata)"
   ]
  },
  {
   "cell_type": "code",
   "execution_count": 4,
   "metadata": {},
   "outputs": [
    {
     "data": {
      "text/html": [
       "<ul><li><strong>1</strong>: Building(instance=1, dataset='SmartMe')</li><li><strong>2</strong>: Building(instance=2, dataset='SmartMe')</li><li><strong>3</strong>: Building(instance=3, dataset='SmartMe')</li><li><strong>4</strong>: Building(instance=4, dataset='SmartMe')</li><li><strong>5</strong>: Building(instance=5, dataset='SmartMe')</li><li><strong>6</strong>: Building(instance=6, dataset='SmartMe')</li><li><strong>7</strong>: Building(instance=7, dataset='SmartMe')</li></ul>"
      ],
      "text/plain": [
       "<IPython.core.display.HTML object>"
      ]
     },
     "metadata": {},
     "output_type": "display_data"
    }
   ],
   "source": [
    "print_dict(data.buildings)"
   ]
  },
  {
   "cell_type": "code",
   "execution_count": 5,
   "metadata": {},
   "outputs": [
    {
     "data": {
      "text/html": [
       "<ul><li><strong>instance</strong>: 1</li><li><strong>original_name</strong>: Wohnung1</li><li><strong>dataset</strong>: SmartMe</li></ul>"
      ],
      "text/plain": [
       "<IPython.core.display.HTML object>"
      ]
     },
     "metadata": {},
     "output_type": "display_data"
    }
   ],
   "source": [
    "print_dict(data.buildings[1].metadata)"
   ]
  },
  {
   "cell_type": "code",
   "execution_count": 6,
   "metadata": {},
   "outputs": [
    {
     "data": {
      "text/plain": [
       "MeterGroup(meters=\n",
       "  ElecMeter(instance=1, building=1, dataset='SmartMe', site_meter, appliances=[])\n",
       ")"
      ]
     },
     "execution_count": 6,
     "metadata": {},
     "output_type": "execute_result"
    }
   ],
   "source": [
    "data.buildings[1].elec"
   ]
  },
  {
   "cell_type": "code",
   "execution_count": 7,
   "metadata": {},
   "outputs": [
    {
     "name": "stdout",
     "output_type": "stream",
     "text": [
      "Loaded 7 buildings\n"
     ]
    }
   ],
   "source": [
    "print('Loaded', len(data.buildings), 'buildings')"
   ]
  },
  {
   "cell_type": "code",
   "execution_count": 8,
   "metadata": {},
   "outputs": [],
   "source": [
    "elec = data.buildings[1].elec"
   ]
  },
  {
   "cell_type": "code",
   "execution_count": 9,
   "metadata": {},
   "outputs": [
    {
     "data": {
      "text/plain": [
       "TimeFrame(start='2023-08-01 02:00:03+02:00', end='2023-08-31 12:23:13+02:00', empty=False)"
      ]
     },
     "execution_count": 9,
     "metadata": {},
     "output_type": "execute_result"
    }
   ],
   "source": [
    "elec.get_timeframe()"
   ]
  },
  {
   "cell_type": "code",
   "execution_count": 10,
   "metadata": {},
   "outputs": [],
   "source": [
    "data.set_window(start='2023-08-01', end='2023-08-07')\n",
    "elec_1 = data.buildings[1].elec"
   ]
  },
  {
   "cell_type": "code",
   "execution_count": 11,
   "metadata": {},
   "outputs": [],
   "source": [
    "mains=elec_1.mains()\n",
    "submeters=elec_1.submeters()"
   ]
  },
  {
   "cell_type": "code",
   "execution_count": 12,
   "metadata": {},
   "outputs": [
    {
     "data": {
      "text/plain": [
       "<matplotlib.axes._subplots.AxesSubplot at 0x7fbd189eb580>"
      ]
     },
     "execution_count": 12,
     "metadata": {},
     "output_type": "execute_result"
    },
    {
     "data": {
      "image/png": "[encoded data removed]",
      "text/plain": [
       "<Figure size 640x480 with 1 Axes>"
      ]
     },
     "metadata": {},
     "output_type": "display_data"
    }
   ],
   "source": [
    "mains.plot()"
   ]
  },
  {
   "cell_type": "code",
   "execution_count": 13,
   "metadata": {},
   "outputs": [
    {
     "name": "stdout",
     "output_type": "stream",
     "text": [
      "ElecMeter(instance=1, building=1, dataset='SmartMe', site_meter, appliances=[])\n",
      "<bound method ElecMeter.sample_period of ElecMeter(instance=1, building=1, dataset='SmartMe', site_meter, appliances=[])>\n",
      "active    19.058496\n",
      "dtype: float64\n"
     ]
    }
   ],
   "source": [
    "print(mains)\n",
    "print(mains.sample_period)\n",
    "print(mains.total_energy())"
   ]
  },
  {
   "cell_type": "code",
   "execution_count": 14,
   "metadata": {},
   "outputs": [
    {
     "data": {
      "text/plain": [
       "['active']"
      ]
     },
     "execution_count": 14,
     "metadata": {},
     "output_type": "execute_result"
    }
   ],
   "source": [
    "mains.available_ac_types('power')"
   ]
  },
  {
   "cell_type": "code",
   "execution_count": 15,
   "metadata": {},
   "outputs": [
    {
     "data": {
      "text/plain": [
       "[]"
      ]
     },
     "execution_count": 15,
     "metadata": {},
     "output_type": "execute_result"
    }
   ],
   "source": [
    "submeters.available_ac_types('power')"
   ]
  },
  {
   "cell_type": "markdown",
   "metadata": {},
   "source": [
    "# Disaggregation"
   ]
  },
  {
   "cell_type": "code",
   "execution_count": 16,
   "metadata": {},
   "outputs": [],
   "source": [
    "from nilmtk.legacy.disaggregate.hart_85 import Hart85\n",
    "h = Hart85()"
   ]
  },
  {
   "cell_type": "code",
   "execution_count": 17,
   "metadata": {},
   "outputs": [
    {
     "name": "stdout",
     "output_type": "stream",
     "text": [
      "Finding Edges, please wait ...\n"
     ]
    },
    {
     "name": "stdout",
     "output_type": "stream",
     "text": [
      "Edge detection complete.\n",
      "Creating transition frame ...\n",
      "Transition frame created.\n",
      "Creating states frame ...\n",
      "States frame created.\n",
      "Finished.\n"
     ]
    }
   ],
   "source": [
    "h.train(mains, columns=[('power', 'active')], noise_level=40)"
   ]
  },
  {
   "cell_type": "code",
   "execution_count": 18,
   "metadata": {},
   "outputs": [
    {
     "name": "stdout",
     "output_type": "stream",
     "text": [
      "Finding Edges, please wait ...\n",
      "Edge detection complete.\n",
      "Creating transition frame ...\n",
      "Transition frame created.\n",
      "Creating states frame ...\n",
      "States frame created.\n",
      "Finished.\n",
      "Finding Edges, please wait ...\n",
      "Edge detection complete.\n",
      "Creating transition frame ...\n",
      "Transition frame created.\n",
      "Creating states frame ...\n",
      "States frame created.\n",
      "Finished.\n",
      "Finding Edges, please wait ...\n",
      "Edge detection complete.\n",
      "Creating transition frame ...\n",
      "Transition frame created.\n",
      "Creating states frame ...\n",
      "States frame created.\n",
      "Finished.\n",
      "Finding Edges, please wait ...\n",
      "Edge detection complete.\n",
      "Creating transition frame ...\n",
      "Transition frame created.\n",
      "Creating states frame ...\n",
      "States frame created.\n",
      "Finished.\n",
      "Finding Edges, please wait ...\n",
      "Edge detection complete.\n",
      "Creating transition frame ...\n",
      "Transition frame created.\n",
      "Creating states frame ...\n",
      "States frame created.\n",
      "Finished.\n",
      "Next Chunk..\n",
      "Next Chunk..\n",
      "Next Chunk..\n",
      "Next Chunk..\n",
      "Next Chunk..\n",
      "Appending mains data to datastore\n",
      "Done\n"
     ]
    }
   ],
   "source": [
    "output = HDFDataStore('output.h5', 'w')\n",
    "df=h.disaggregate(mains, output)"
   ]
  },
  {
   "cell_type": "code",
   "execution_count": 19,
   "metadata": {},
   "outputs": [
    {
     "data": {
      "text/html": [
       "<div>\n",
       "<style scoped>\n",
       "    .dataframe tbody tr th:only-of-type {\n",
       "        vertical-align: middle;\n",
       "    }\n",
       "\n",
       "    .dataframe tbody tr th {\n",
       "        vertical-align: top;\n",
       "    }\n",
       "\n",
       "    .dataframe thead th {\n",
       "        text-align: right;\n",
       "    }\n",
       "</style>\n",
       "<table border=\"1\" class=\"dataframe\">\n",
       "  <thead>\n",
       "    <tr style=\"text-align: right;\">\n",
       "      <th></th>\n",
       "      <th>0</th>\n",
       "      <th>1</th>\n",
       "      <th>2</th>\n",
       "      <th>3</th>\n",
       "      <th>4</th>\n",
       "    </tr>\n",
       "  </thead>\n",
       "  <tbody>\n",
       "    <tr>\n",
       "      <th>2023-08-05 08:14:00+02:00</th>\n",
       "      <td>0</td>\n",
       "      <td>0</td>\n",
       "      <td>0</td>\n",
       "      <td>0</td>\n",
       "      <td>0</td>\n",
       "    </tr>\n",
       "    <tr>\n",
       "      <th>2023-08-05 08:15:00+02:00</th>\n",
       "      <td>0</td>\n",
       "      <td>0</td>\n",
       "      <td>0</td>\n",
       "      <td>0</td>\n",
       "      <td>0</td>\n",
       "    </tr>\n",
       "    <tr>\n",
       "      <th>2023-08-05 08:16:00+02:00</th>\n",
       "      <td>0</td>\n",
       "      <td>0</td>\n",
       "      <td>0</td>\n",
       "      <td>0</td>\n",
       "      <td>0</td>\n",
       "    </tr>\n",
       "    <tr>\n",
       "      <th>2023-08-05 08:17:00+02:00</th>\n",
       "      <td>0</td>\n",
       "      <td>0</td>\n",
       "      <td>0</td>\n",
       "      <td>0</td>\n",
       "      <td>0</td>\n",
       "    </tr>\n",
       "    <tr>\n",
       "      <th>2023-08-05 08:18:00+02:00</th>\n",
       "      <td>0</td>\n",
       "      <td>0</td>\n",
       "      <td>0</td>\n",
       "      <td>0</td>\n",
       "      <td>0</td>\n",
       "    </tr>\n",
       "    <tr>\n",
       "      <th>...</th>\n",
       "      <td>...</td>\n",
       "      <td>...</td>\n",
       "      <td>...</td>\n",
       "      <td>...</td>\n",
       "      <td>...</td>\n",
       "    </tr>\n",
       "    <tr>\n",
       "      <th>2023-08-06 23:55:00+02:00</th>\n",
       "      <td>52</td>\n",
       "      <td>0</td>\n",
       "      <td>1231</td>\n",
       "      <td>0</td>\n",
       "      <td>0</td>\n",
       "    </tr>\n",
       "    <tr>\n",
       "      <th>2023-08-06 23:56:00+02:00</th>\n",
       "      <td>52</td>\n",
       "      <td>0</td>\n",
       "      <td>1231</td>\n",
       "      <td>0</td>\n",
       "      <td>0</td>\n",
       "    </tr>\n",
       "    <tr>\n",
       "      <th>2023-08-06 23:57:00+02:00</th>\n",
       "      <td>52</td>\n",
       "      <td>0</td>\n",
       "      <td>1231</td>\n",
       "      <td>0</td>\n",
       "      <td>0</td>\n",
       "    </tr>\n",
       "    <tr>\n",
       "      <th>2023-08-06 23:58:00+02:00</th>\n",
       "      <td>52</td>\n",
       "      <td>0</td>\n",
       "      <td>1231</td>\n",
       "      <td>0</td>\n",
       "      <td>0</td>\n",
       "    </tr>\n",
       "    <tr>\n",
       "      <th>2023-08-06 23:59:00+02:00</th>\n",
       "      <td>0</td>\n",
       "      <td>0</td>\n",
       "      <td>0</td>\n",
       "      <td>0</td>\n",
       "      <td>0</td>\n",
       "    </tr>\n",
       "  </tbody>\n",
       "</table>\n",
       "<p>2386 rows × 5 columns</p>\n",
       "</div>"
      ],
      "text/plain": [
       "                            0  1     2  3  4\n",
       "2023-08-05 08:14:00+02:00   0  0     0  0  0\n",
       "2023-08-05 08:15:00+02:00   0  0     0  0  0\n",
       "2023-08-05 08:16:00+02:00   0  0     0  0  0\n",
       "2023-08-05 08:17:00+02:00   0  0     0  0  0\n",
       "2023-08-05 08:18:00+02:00   0  0     0  0  0\n",
       "...                        .. ..   ... .. ..\n",
       "2023-08-06 23:55:00+02:00  52  0  1231  0  0\n",
       "2023-08-06 23:56:00+02:00  52  0  1231  0  0\n",
       "2023-08-06 23:57:00+02:00  52  0  1231  0  0\n",
       "2023-08-06 23:58:00+02:00  52  0  1231  0  0\n",
       "2023-08-06 23:59:00+02:00   0  0     0  0  0\n",
       "\n",
       "[2386 rows x 5 columns]"
      ]
     },
     "execution_count": 19,
     "metadata": {},
     "output_type": "execute_result"
    }
   ],
   "source": [
    "df"
   ]
  }
 ],
 "metadata": {
  "kernelspec": {
   "display_name": "nilmtk-env",
   "language": "python",
   "name": "python3"
  },
  "language_info": {
   "codemirror_mode": {
    "name": "ipython",
    "version": 3
   },
   "file_extension": ".py",
   "mimetype": "text/x-python",
   "name": "python",
   "nbconvert_exporter": "python",
   "pygments_lexer": "ipython3",
   "version": "3.8.16"
  },
  "orig_nbformat": 4
 },
 "nbformat": 4,
 "nbformat_minor": 2
}
